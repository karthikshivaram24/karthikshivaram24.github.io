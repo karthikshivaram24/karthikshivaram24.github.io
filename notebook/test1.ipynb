{
 "cells": [
  {
   "cell_type": "markdown",
   "id": "5e24d77e-726e-42f0-b011-341a58c16749",
   "metadata": {},
   "source": [
    "# Testing 1\n",
    "\n",
    "Date: 2021-12-20  \n",
    "Author: Karthik Shivaram    \n",
    "Tags: test  \n",
    "<!--eofm-->"
   ]
  },
  {
   "cell_type": "code",
   "execution_count": 1,
   "id": "4fbe6cb0-c71c-4798-8c1c-cd5fa865c61b",
   "metadata": {},
   "outputs": [],
   "source": [
    "def bullshit():\n",
    "    \"\"\"\n",
    "    \"\"\"\n",
    "    a = 10\n",
    "    b = 20\n",
    "    return a*b"
   ]
  },
  {
   "cell_type": "code",
   "execution_count": 3,
   "id": "62fbadac-2d7b-43fe-92b6-f2dec9ad207a",
   "metadata": {},
   "outputs": [
    {
     "data": {
      "text/plain": [
       "200"
      ]
     },
     "execution_count": 3,
     "metadata": {},
     "output_type": "execute_result"
    }
   ],
   "source": [
    "bullshit()"
   ]
  }
 ],
 "metadata": {
  "kernelspec": {
   "display_name": "frames",
   "language": "python",
   "name": "frames"
  },
  "language_info": {
   "codemirror_mode": {
    "name": "ipython",
    "version": 3
   },
   "file_extension": ".py",
   "mimetype": "text/x-python",
   "name": "python",
   "nbconvert_exporter": "python",
   "pygments_lexer": "ipython3",
   "version": "3.8.5"
  }
 },
 "nbformat": 4,
 "nbformat_minor": 5
}
